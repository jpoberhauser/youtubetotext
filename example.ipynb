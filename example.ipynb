{
 "cells": [
  {
   "cell_type": "code",
   "execution_count": null,
   "id": "65ee1ef4",
   "metadata": {},
   "outputs": [],
   "source": [
    "from faster_whisper import WhisperModel\n",
    "import yt_dlp\n",
    "import os"
   ]
  },
  {
   "cell_type": "code",
   "execution_count": null,
   "id": "28cee998",
   "metadata": {},
   "outputs": [],
   "source": [
    "def download_audio(youtube_url, out_dir=\"downloads\"):\n",
    "    os.makedirs(out_dir, exist_ok=True)\n",
    "    ydl_opts = {\n",
    "        'format': 'bestaudio/best',\n",
    "        'outtmpl': f'{out_dir}/%(id)s.%(ext)s',\n",
    "        'postprocessors': [{\n",
    "            'key': 'FFmpegExtractAudio',\n",
    "            'preferredcodec': 'mp3',\n",
    "        }]\n",
    "    }\n",
    "    with yt_dlp.YoutubeDL(ydl_opts) as ydl:\n",
    "        info = ydl.extract_info(youtube_url, download=True)\n",
    "        return f\"{out_dir}/{info['id']}.mp3\", info['id']\n",
    "    \n",
    "def transcribe(audio_path, model_size=\"medium\", output_dir=\"transcripts\"):\n",
    "    model = WhisperModel(model_size, compute_type=\"int8\")\n",
    "    segments, _ = model.transcribe(audio_path)\n",
    "    os.makedirs(output_dir, exist_ok=True)\n",
    "    text_chunks = []\n",
    "    for seg in segments:\n",
    "        text_chunks.append({\n",
    "            \"start\": seg.start,\n",
    "            \"end\": seg.end,\n",
    "            \"text\": seg.text\n",
    "        })\n",
    "\n",
    "    output_path = os.path.join(output_dir, os.path.basename(audio_path).replace(\".mp3\", \".txt\"))\n",
    "    with open(output_path, \"w\") as f:\n",
    "        for chunk in text_chunks:\n",
    "            f.write(f\"{chunk['text']}\\n\")\n",
    "\n",
    "    print(f\"Transcription saved to: {output_path}\")\n",
    "    return None"
   ]
  },
  {
   "cell_type": "code",
   "execution_count": null,
   "id": "9ca2c669",
   "metadata": {},
   "outputs": [],
   "source": [
    "download_audio('https://www.youtube.com/watch?v=CFtDihdNwJk', out_dir = '~/Downloads/')"
   ]
  },
  {
   "cell_type": "code",
   "execution_count": null,
   "id": "7eb53bf9",
   "metadata": {},
   "outputs": [],
   "source": [
    "transcribe('~/Downloads/CFtDihdNwJk.mp3',\n",
    "            model_size=\"small\", \n",
    "            output_dir=\"/Users/jpoberhauser/Desktop/baseballCompanion/data/transcripts/\")"
   ]
  },
  {
   "cell_type": "markdown",
   "id": "b4f74408",
   "metadata": {},
   "source": [
    "## Now, you have the entire text transcribed as a .txt like:\n",
    "\n",
    " Luis Robert, trade rumors are real.\n",
    " Bob Nightingale has reported that Luis Robert Jr.\n",
    " and the New York Mets have been linked in possible trades.\n",
    " The White Sox are looking at Mets prospects.\n",
    " We're gonna talk about everything that there is\n",
    " to possibly talk about with these Luis Robert trade rumors\n",
    " in today's YouTube video and podcast episode.\n",
    " Make sure you are subscribed to the Mets on Podcast,\n",
    " YouTube channel, so don't miss out on any of the content\n",
    " coming at you, videos after every single series,\n",
    " and a third bonus episode every single week.\n",
    " So you're gonna want to stick around and see that.\n",
    " And if you are listening to us on Apple,\n",
    " podcast, Spotify, Google, whatever it is,\n",
    " drop us a reading, drop us a review,\n",
    " download and subscribe.\n",
    " We really do appreciate it.\n",
    " James, when I saw this news,\n",
    " I know we've talked about this off camera many a times.\n",
    " Luis Robert would be awesome on this team.\n",
    " He'd be fantastic to have.\n",
    " He'd be kind of perfect,\n",
    " because when you look up and down\n",
    " this Mets roster right now,\n",
    " there's, they're really strong and deep,\n",
    " basically every single position of the starting nine.\n",
    " I guess of the starting eight,\n",
    " really beside center field.\n",
    " I know that we love Tyrone Taylor.\n",
    " He's become a bit of a cult hero for Mets fans.\n",
    " He walks up to Ice Cube.\n",
    " He was really clutching the playoffs last year.\n",
    " Really good defensive center fielder.\n",
    " He's a solid ball player.\n",
    " Jose Seria is out.\n",
    " He will be back at some point.\n",
    " But again, if you look at this team up and down,\n",
    " you're like, what position is the one\n",
    " of the guys on the field\n",
    " that would be the most worth upgrading?\n",
    " And of the lineup,\n",
    " it's very clearly center field.\n",
    " Luis Robert Jr.'s that spot right now\n",
    " where he has two years of team options left\n",
    " on his White Sox contract,\n",
    " $20 million each for the next two seasons\n",
    " and both totally voluntary money.\n",
    " So the White Sox can just get rid of him\n",
    " from the end of the season if they don't want to "
   ]
  },
  {
   "cell_type": "code",
   "execution_count": null,
   "id": "3f39b50f",
   "metadata": {},
   "outputs": [],
   "source": []
  }
 ],
 "metadata": {
  "language_info": {
   "name": "python"
  }
 },
 "nbformat": 4,
 "nbformat_minor": 5
}
